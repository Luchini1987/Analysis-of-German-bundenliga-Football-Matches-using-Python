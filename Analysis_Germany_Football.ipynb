{
 "cells": [
  {
   "cell_type": "markdown",
   "id": "36165f16-b1bd-421e-bbb1-b12d317e0ada",
   "metadata": {},
   "source": [
    "## Analysis of German bundenliga Football Matches<br>\n",
    "This project aims to analyse the football matches played at the German Bundesliga corresponding to the 2017 and 2018 season.<br>\n",
    "The datasets utilized to carry out this analysis were downloaded from the following source:<br>\n",
    "[**Link**](https://towardsdatascience.com/introduction-to-sports-analytics-with-pandas-ad6303db9e11/)<br>\n",
    "All the datasets are in JSON format which is very common and easy to read.<br>\n",
    "\n",
    "The libraries used in this analysis were Numpy and Pandas, both of which belong to Python."
   ]
  },
  {
   "cell_type": "code",
   "execution_count": 38,
   "id": "b865de40-d354-4592-85c7-533ff1f609ad",
   "metadata": {},
   "outputs": [],
   "source": [
    "import numpy as np\n",
    "import pandas as pd"
   ]
  },
  {
   "cell_type": "markdown",
   "id": "58368844-f13f-48d0-8127-f947771e4e31",
   "metadata": {},
   "source": [
    "Using the library Pandas, 4 archives in Json Format are uploaded. Each archive contains information about the main events occured per match, all the teams that participated in the ligue, all the players and all the matches that carried out.       "
   ]
  },
  {
   "cell_type": "code",
   "execution_count": 39,
   "id": "4bdce27c-d5a8-4c94-985a-705a2393903f",
   "metadata": {},
   "outputs": [],
   "source": [
    "events = pd.read_json(\"C:\\\\Users\\\\Administrador\\\\Desktop\\\\Project\\\\data_sets\\\\events_Germany.json\")\n",
    "teams = pd.read_json(\"C:\\\\Users\\\\Administrador\\\\Desktop\\\\Project\\\\data_sets\\\\teams.json\")\n",
    "players = pd.read_json(\"C:\\\\Users\\\\Administrador\\\\Desktop\\\\Project\\\\data_sets\\\\players.json\")\n",
    "matches = pd.read_json(\"C:\\\\Users\\\\Administrador\\\\Desktop\\\\Project\\\\data_sets\\\\matches_Germany.json\")"
   ]
  },
  {
   "cell_type": "markdown",
   "id": "e65cf072-12c1-4713-88e2-dd2f674e55ac",
   "metadata": {},
   "source": [
    "The **events** dataframe contains all the information about the actions related to ball touches which made in matches carried out in the German Bundesliga.<br>\n",
    "This dataframe contains 12 columns which contain the following information:<br>\n",
    "\n",
    "**id** = a unique identifier for each event.<br>\n",
    "**eventName** = It contains the type of event that occured. (Pass, Others on the ball, Duel, Interruption, Free Kick, Foul, Shot, Save attempt, Goalkeeper leaving line, Offside)<br>\n",
    "**eventId** = It is a unique identifier per each type of eventName.<br>\n",
    "**subEventName** = This column contains sub categories per each eventName.<br>\n",
    "**subEventId** = It is a unique identifier per each sub category.<br>\n",
    "**tags** = describe additional information about the event.<br>\n",
    "**playerId** = contains a code that helps to identify the player involved in the event.<br>\n",
    "**positions** = The origin and destination positions associated with the event.<br>\n",
    "**matchId** = is a code that helps to identify the match to which belongs this event.<br>\n",
    "**teamId** = is a code that helps to identify the player's team who carries out the event.<br>\n",
    "**matchPeriod** = This column indicates if the event was carried out at the first half (1H), second half (2H), first extra time (E1), second extra time (E2) or penalties time (P).<br>\n",
    "**eventSec** = This information specifies in seconds when the event occurs. This measurement is tracked since the beginning of the current half of the match.<br> "
   ]
  },
  {
   "cell_type": "code",
   "execution_count": 40,
   "id": "61ff3905-7260-422b-8634-2926264e3b5b",
   "metadata": {},
   "outputs": [
    {
     "data": {
      "text/html": [
       "<div>\n",
       "<style scoped>\n",
       "    .dataframe tbody tr th:only-of-type {\n",
       "        vertical-align: middle;\n",
       "    }\n",
       "\n",
       "    .dataframe tbody tr th {\n",
       "        vertical-align: top;\n",
       "    }\n",
       "\n",
       "    .dataframe thead th {\n",
       "        text-align: right;\n",
       "    }\n",
       "</style>\n",
       "<table border=\"1\" class=\"dataframe\">\n",
       "  <thead>\n",
       "    <tr style=\"text-align: right;\">\n",
       "      <th></th>\n",
       "      <th>eventId</th>\n",
       "      <th>subEventName</th>\n",
       "      <th>tags</th>\n",
       "      <th>playerId</th>\n",
       "      <th>positions</th>\n",
       "      <th>matchId</th>\n",
       "      <th>eventName</th>\n",
       "      <th>teamId</th>\n",
       "      <th>matchPeriod</th>\n",
       "      <th>eventSec</th>\n",
       "      <th>subEventId</th>\n",
       "      <th>id</th>\n",
       "    </tr>\n",
       "  </thead>\n",
       "  <tbody>\n",
       "    <tr>\n",
       "      <th>0</th>\n",
       "      <td>8</td>\n",
       "      <td>Simple pass</td>\n",
       "      <td>[{'id': 1801}]</td>\n",
       "      <td>15231</td>\n",
       "      <td>[{'y': 50, 'x': 50}, {'y': 48, 'x': 50}]</td>\n",
       "      <td>2516739</td>\n",
       "      <td>Pass</td>\n",
       "      <td>2446</td>\n",
       "      <td>1H</td>\n",
       "      <td>2.409746</td>\n",
       "      <td>85</td>\n",
       "      <td>179896442</td>\n",
       "    </tr>\n",
       "    <tr>\n",
       "      <th>1</th>\n",
       "      <td>8</td>\n",
       "      <td>Simple pass</td>\n",
       "      <td>[{'id': 1801}]</td>\n",
       "      <td>14786</td>\n",
       "      <td>[{'y': 48, 'x': 50}, {'y': 22, 'x': 22}]</td>\n",
       "      <td>2516739</td>\n",
       "      <td>Pass</td>\n",
       "      <td>2446</td>\n",
       "      <td>1H</td>\n",
       "      <td>2.506082</td>\n",
       "      <td>85</td>\n",
       "      <td>179896443</td>\n",
       "    </tr>\n",
       "  </tbody>\n",
       "</table>\n",
       "</div>"
      ],
      "text/plain": [
       "   eventId subEventName            tags  playerId  \\\n",
       "0        8  Simple pass  [{'id': 1801}]     15231   \n",
       "1        8  Simple pass  [{'id': 1801}]     14786   \n",
       "\n",
       "                                  positions  matchId eventName  teamId  \\\n",
       "0  [{'y': 50, 'x': 50}, {'y': 48, 'x': 50}]  2516739      Pass    2446   \n",
       "1  [{'y': 48, 'x': 50}, {'y': 22, 'x': 22}]  2516739      Pass    2446   \n",
       "\n",
       "  matchPeriod  eventSec subEventId         id  \n",
       "0          1H  2.409746         85  179896442  \n",
       "1          1H  2.506082         85  179896443  "
      ]
     },
     "execution_count": 40,
     "metadata": {},
     "output_type": "execute_result"
    }
   ],
   "source": [
    "events.head(2)"
   ]
  },
  {
   "cell_type": "markdown",
   "id": "146a2606-1534-4847-914e-48b6a882209c",
   "metadata": {},
   "source": [
    "The teams dataframe contains a detailed list about all the teams that have participated in the 7 main soccer competitions (Italian, Spanish, German, French, English First Divisions, World Cup 2018 and European Cup 2016).<br>\n",
    "This dataframe has 6 columns which contains the following information:<br>\n",
    "**city**= this column contains the name of the city where a team belongs.<br>\n",
    "**name**= contains the team's name.<br>\n",
    "**wyId**= is a unique identifier per each team.<br>\n",
    "**officialName**= contains the team's official name.<br>\n",
    "**area**= contains team's additional information.<br>\n",
    "**type**= indicates the organization's model to which belongs the team.<br>"
   ]
  },
  {
   "cell_type": "code",
   "execution_count": 41,
   "id": "ed65ad57-c2da-445c-b5f5-703524031419",
   "metadata": {},
   "outputs": [
    {
     "data": {
      "text/html": [
       "<div>\n",
       "<style scoped>\n",
       "    .dataframe tbody tr th:only-of-type {\n",
       "        vertical-align: middle;\n",
       "    }\n",
       "\n",
       "    .dataframe tbody tr th {\n",
       "        vertical-align: top;\n",
       "    }\n",
       "\n",
       "    .dataframe thead th {\n",
       "        text-align: right;\n",
       "    }\n",
       "</style>\n",
       "<table border=\"1\" class=\"dataframe\">\n",
       "  <thead>\n",
       "    <tr style=\"text-align: right;\">\n",
       "      <th></th>\n",
       "      <th>city</th>\n",
       "      <th>name</th>\n",
       "      <th>wyId</th>\n",
       "      <th>officialName</th>\n",
       "      <th>area</th>\n",
       "      <th>type</th>\n",
       "    </tr>\n",
       "  </thead>\n",
       "  <tbody>\n",
       "    <tr>\n",
       "      <th>0</th>\n",
       "      <td>Newcastle upon Tyne</td>\n",
       "      <td>Newcastle United</td>\n",
       "      <td>1613</td>\n",
       "      <td>Newcastle United FC</td>\n",
       "      <td>{'name': 'England', 'id': '0', 'alpha3code': '...</td>\n",
       "      <td>club</td>\n",
       "    </tr>\n",
       "    <tr>\n",
       "      <th>1</th>\n",
       "      <td>Vigo</td>\n",
       "      <td>Celta de Vigo</td>\n",
       "      <td>692</td>\n",
       "      <td>Real Club Celta de Vigo</td>\n",
       "      <td>{'name': 'Spain', 'id': '724', 'alpha3code': '...</td>\n",
       "      <td>club</td>\n",
       "    </tr>\n",
       "  </tbody>\n",
       "</table>\n",
       "</div>"
      ],
      "text/plain": [
       "                  city              name  wyId             officialName  \\\n",
       "0  Newcastle upon Tyne  Newcastle United  1613      Newcastle United FC   \n",
       "1                 Vigo     Celta de Vigo   692  Real Club Celta de Vigo   \n",
       "\n",
       "                                                area  type  \n",
       "0  {'name': 'England', 'id': '0', 'alpha3code': '...  club  \n",
       "1  {'name': 'Spain', 'id': '724', 'alpha3code': '...  club  "
      ]
     },
     "execution_count": 41,
     "metadata": {},
     "output_type": "execute_result"
    }
   ],
   "source": [
    "teams.head(2)"
   ]
  },
  {
   "cell_type": "markdown",
   "id": "d9f01bc3-392c-4880-b2ea-30bc78082fc7",
   "metadata": {},
   "source": [
    "The players dataframe is composed by all the information of players which have participated in the 7 main soccer competitions (Italian, Spanish, German, French, English First Divisions, World Cup 2018 and European Cup 2016).<br>\n",
    "This dataframe contains 14 columns which are described next:<br>\n",
    "**passportArea**= contains geographic information related to the player's current passport.<br>\n",
    "**weight**= represents the weight in kilograms of each player.<br>\n",
    "**firstName**= This column shows the first name of each player.<br>\n",
    "**middleName** = This column shows the middle name of each player.<br>\n",
    "**lastName** = This column shows the last name of each player.<br>\n",
    "**currentTeamId** = This column shows the code of the team to which belongs the player.<br>\n",
    "**birthDate** = It represents the birthday of each player.<br>\n",
    "**height**= It represents the height of each player measured in centimeters.<br>\n",
    "**role**= It represents the main role of player.<br>\n",
    "**birthArea**= It represents the place where the player was born.<br>\n",
    "**wyId**= This column shows the codes assigned to each player.<br>\n",
    "**foot**= The preferred foot of the player.<br>\n",
    "**shortName**= The short name of the player.<br>\n",
    "**currentNationalTeamId**= It shows the code of the team where the player currently plays.<br>"
   ]
  },
  {
   "cell_type": "code",
   "execution_count": 42,
   "id": "8c66fb74-e1c4-47c2-89e6-49a8dcbb22bc",
   "metadata": {},
   "outputs": [
    {
     "data": {
      "text/html": [
       "<div>\n",
       "<style scoped>\n",
       "    .dataframe tbody tr th:only-of-type {\n",
       "        vertical-align: middle;\n",
       "    }\n",
       "\n",
       "    .dataframe tbody tr th {\n",
       "        vertical-align: top;\n",
       "    }\n",
       "\n",
       "    .dataframe thead th {\n",
       "        text-align: right;\n",
       "    }\n",
       "</style>\n",
       "<table border=\"1\" class=\"dataframe\">\n",
       "  <thead>\n",
       "    <tr style=\"text-align: right;\">\n",
       "      <th></th>\n",
       "      <th>passportArea</th>\n",
       "      <th>weight</th>\n",
       "      <th>firstName</th>\n",
       "      <th>middleName</th>\n",
       "      <th>lastName</th>\n",
       "      <th>currentTeamId</th>\n",
       "      <th>birthDate</th>\n",
       "      <th>height</th>\n",
       "      <th>role</th>\n",
       "      <th>birthArea</th>\n",
       "      <th>wyId</th>\n",
       "      <th>foot</th>\n",
       "      <th>shortName</th>\n",
       "      <th>currentNationalTeamId</th>\n",
       "    </tr>\n",
       "  </thead>\n",
       "  <tbody>\n",
       "    <tr>\n",
       "      <th>0</th>\n",
       "      <td>{'name': 'Turkey', 'id': '792', 'alpha3code': ...</td>\n",
       "      <td>78</td>\n",
       "      <td>Harun</td>\n",
       "      <td></td>\n",
       "      <td>Tekin</td>\n",
       "      <td>4502</td>\n",
       "      <td>1989-06-17</td>\n",
       "      <td>187</td>\n",
       "      <td>{'code2': 'GK', 'code3': 'GKP', 'name': 'Goalk...</td>\n",
       "      <td>{'name': 'Turkey', 'id': '792', 'alpha3code': ...</td>\n",
       "      <td>32777</td>\n",
       "      <td>right</td>\n",
       "      <td>H. Tekin</td>\n",
       "      <td>4687</td>\n",
       "    </tr>\n",
       "    <tr>\n",
       "      <th>1</th>\n",
       "      <td>{'name': 'Senegal', 'id': '686', 'alpha3code':...</td>\n",
       "      <td>73</td>\n",
       "      <td>Malang</td>\n",
       "      <td></td>\n",
       "      <td>Sarr</td>\n",
       "      <td>3775</td>\n",
       "      <td>1999-01-23</td>\n",
       "      <td>182</td>\n",
       "      <td>{'code2': 'DF', 'code3': 'DEF', 'name': 'Defen...</td>\n",
       "      <td>{'name': 'France', 'id': '250', 'alpha3code': ...</td>\n",
       "      <td>393228</td>\n",
       "      <td>left</td>\n",
       "      <td>M. Sarr</td>\n",
       "      <td>4423</td>\n",
       "    </tr>\n",
       "  </tbody>\n",
       "</table>\n",
       "</div>"
      ],
      "text/plain": [
       "                                        passportArea  weight firstName  \\\n",
       "0  {'name': 'Turkey', 'id': '792', 'alpha3code': ...      78     Harun   \n",
       "1  {'name': 'Senegal', 'id': '686', 'alpha3code':...      73    Malang   \n",
       "\n",
       "  middleName lastName currentTeamId   birthDate  height  \\\n",
       "0               Tekin          4502  1989-06-17     187   \n",
       "1                Sarr          3775  1999-01-23     182   \n",
       "\n",
       "                                                role  \\\n",
       "0  {'code2': 'GK', 'code3': 'GKP', 'name': 'Goalk...   \n",
       "1  {'code2': 'DF', 'code3': 'DEF', 'name': 'Defen...   \n",
       "\n",
       "                                           birthArea    wyId   foot shortName  \\\n",
       "0  {'name': 'Turkey', 'id': '792', 'alpha3code': ...   32777  right  H. Tekin   \n",
       "1  {'name': 'France', 'id': '250', 'alpha3code': ...  393228   left   M. Sarr   \n",
       "\n",
       "  currentNationalTeamId  \n",
       "0                  4687  \n",
       "1                  4423  "
      ]
     },
     "execution_count": 42,
     "metadata": {},
     "output_type": "execute_result"
    }
   ],
   "source": [
    "players.head(2)"
   ]
  },
  {
   "cell_type": "markdown",
   "id": "1ad10194-b32e-46b7-a511-005a104b1c48",
   "metadata": {},
   "source": [
    "The matches dataframe is composed by all the matches carried out in the German Bundesliga.<br>\n",
    "This dataframe has 14 columns which are detailed next:<br>\n",
    "**status**= it presents the final status of the match which can be played, cancelled, postponed or suspended.<br>\n",
    "**roundId**= indicates the match-day of the competition to which the match belongs to.<br>\n",
    "**gameweek**= It represents the week of the league, starting from the beginning of the league.<br>\n",
    "**teamsData**= presents extra information about the teams that are playing the match.<br>\n",
    "**seasonId**= indicated the season of the match.<br>\n",
    "**dateutc**= presents the date and time when the match was played.<br>\n",
    "**winner**= presents the identifier of the team that won. If the match ended with a draw the identifier is 0.<br>\n",
    "**venue**= The stadium where the match was held.<br>\n",
    "**wyId**= It's the identifier assigned to the match.<br>\n",
    "**label**= contains the names of both teams who played the match and the final result.<br>\n",
    "**date**= The date when the match was held.<br>\n",
    "**referees**= it contains information about the referees of the match.<br>\n",
    "**duration**= This column establish 3 possible tags according to the match's duration. The options can be \"Regular\" (90 minutes), \"Extra Time\" (Matches with supplementary times) or Penalities (matches which end at penalty kicks).<br>\n",
    "**competitionId**= This columns presents the identifier of the competition to which belongs the match.<br>"
   ]
  },
  {
   "cell_type": "code",
   "execution_count": 43,
   "id": "ad6e0422-3018-42e3-a6b1-59b1fce2248d",
   "metadata": {},
   "outputs": [
    {
     "data": {
      "text/html": [
       "<div>\n",
       "<style scoped>\n",
       "    .dataframe tbody tr th:only-of-type {\n",
       "        vertical-align: middle;\n",
       "    }\n",
       "\n",
       "    .dataframe tbody tr th {\n",
       "        vertical-align: top;\n",
       "    }\n",
       "\n",
       "    .dataframe thead th {\n",
       "        text-align: right;\n",
       "    }\n",
       "</style>\n",
       "<table border=\"1\" class=\"dataframe\">\n",
       "  <thead>\n",
       "    <tr style=\"text-align: right;\">\n",
       "      <th></th>\n",
       "      <th>status</th>\n",
       "      <th>roundId</th>\n",
       "      <th>gameweek</th>\n",
       "      <th>teamsData</th>\n",
       "      <th>seasonId</th>\n",
       "      <th>dateutc</th>\n",
       "      <th>winner</th>\n",
       "      <th>venue</th>\n",
       "      <th>wyId</th>\n",
       "      <th>label</th>\n",
       "      <th>date</th>\n",
       "      <th>referees</th>\n",
       "      <th>duration</th>\n",
       "      <th>competitionId</th>\n",
       "    </tr>\n",
       "  </thead>\n",
       "  <tbody>\n",
       "    <tr>\n",
       "      <th>0</th>\n",
       "      <td>Played</td>\n",
       "      <td>4405517</td>\n",
       "      <td>34</td>\n",
       "      <td>{'2444': {'scoreET': 0, 'coachId': 14710, 'sid...</td>\n",
       "      <td>181137</td>\n",
       "      <td>2018-05-12 13:30:00</td>\n",
       "      <td>2445</td>\n",
       "      <td>Allianz Arena</td>\n",
       "      <td>2517036</td>\n",
       "      <td>Bayern M\\u00fcnchen - Stuttgart, 1 - 4</td>\n",
       "      <td>May 12, 2018 at 3:30:00 PM GMT+2</td>\n",
       "      <td>[{'refereeId': 379444, 'role': 'referee'}, {'r...</td>\n",
       "      <td>Regular</td>\n",
       "      <td>426</td>\n",
       "    </tr>\n",
       "    <tr>\n",
       "      <th>1</th>\n",
       "      <td>Played</td>\n",
       "      <td>4405517</td>\n",
       "      <td>34</td>\n",
       "      <td>{'2482': {'scoreET': 0, 'coachId': 272299, 'si...</td>\n",
       "      <td>181137</td>\n",
       "      <td>2018-05-12 13:30:00</td>\n",
       "      <td>2482</td>\n",
       "      <td>WIRSOL Rhein-Neckar-Arena</td>\n",
       "      <td>2517037</td>\n",
       "      <td>Hoffenheim - Borussia Dortmund, 3 - 1</td>\n",
       "      <td>May 12, 2018 at 3:30:00 PM GMT+2</td>\n",
       "      <td>[{'refereeId': 384936, 'role': 'referee'}, {'r...</td>\n",
       "      <td>Regular</td>\n",
       "      <td>426</td>\n",
       "    </tr>\n",
       "  </tbody>\n",
       "</table>\n",
       "</div>"
      ],
      "text/plain": [
       "   status  roundId  gameweek  \\\n",
       "0  Played  4405517        34   \n",
       "1  Played  4405517        34   \n",
       "\n",
       "                                           teamsData  seasonId  \\\n",
       "0  {'2444': {'scoreET': 0, 'coachId': 14710, 'sid...    181137   \n",
       "1  {'2482': {'scoreET': 0, 'coachId': 272299, 'si...    181137   \n",
       "\n",
       "               dateutc  winner                      venue     wyId  \\\n",
       "0  2018-05-12 13:30:00    2445              Allianz Arena  2517036   \n",
       "1  2018-05-12 13:30:00    2482  WIRSOL Rhein-Neckar-Arena  2517037   \n",
       "\n",
       "                                    label                              date  \\\n",
       "0  Bayern M\\u00fcnchen - Stuttgart, 1 - 4  May 12, 2018 at 3:30:00 PM GMT+2   \n",
       "1   Hoffenheim - Borussia Dortmund, 3 - 1  May 12, 2018 at 3:30:00 PM GMT+2   \n",
       "\n",
       "                                            referees duration  competitionId  \n",
       "0  [{'refereeId': 379444, 'role': 'referee'}, {'r...  Regular            426  \n",
       "1  [{'refereeId': 384936, 'role': 'referee'}, {'r...  Regular            426  "
      ]
     },
     "execution_count": 43,
     "metadata": {},
     "output_type": "execute_result"
    }
   ],
   "source": [
    "matches.head(2)"
   ]
  },
  {
   "cell_type": "markdown",
   "id": "25a9120b-a163-4f50-bb91-a3b9e39be208",
   "metadata": {},
   "source": [
    "Before starting the analysis it´s neccessary to check if there are null values and if the datatype is adequate according the information. "
   ]
  },
  {
   "cell_type": "code",
   "execution_count": 44,
   "id": "dcce21dc-007c-4599-bf77-e85041318abd",
   "metadata": {},
   "outputs": [
    {
     "name": "stdout",
     "output_type": "stream",
     "text": [
      "<class 'pandas.core.frame.DataFrame'>\n",
      "RangeIndex: 519407 entries, 0 to 519406\n",
      "Data columns (total 12 columns):\n",
      " #   Column        Non-Null Count   Dtype  \n",
      "---  ------        --------------   -----  \n",
      " 0   eventId       519407 non-null  int64  \n",
      " 1   subEventName  519407 non-null  object \n",
      " 2   tags          519407 non-null  object \n",
      " 3   playerId      519407 non-null  int64  \n",
      " 4   positions     519407 non-null  object \n",
      " 5   matchId       519407 non-null  int64  \n",
      " 6   eventName     519407 non-null  object \n",
      " 7   teamId        519407 non-null  int64  \n",
      " 8   matchPeriod   519407 non-null  object \n",
      " 9   eventSec      519407 non-null  float64\n",
      " 10  subEventId    519407 non-null  object \n",
      " 11  id            519407 non-null  int64  \n",
      "dtypes: float64(1), int64(5), object(6)\n",
      "memory usage: 47.6+ MB\n"
     ]
    }
   ],
   "source": [
    "# Here we can observe that there are not null values and the datatype per each column is adequate. \n",
    "events.info()"
   ]
  },
  {
   "cell_type": "code",
   "execution_count": 45,
   "id": "c720ad09-0265-469e-8b25-c3c06e5f311b",
   "metadata": {},
   "outputs": [
    {
     "name": "stdout",
     "output_type": "stream",
     "text": [
      "<class 'pandas.core.frame.DataFrame'>\n",
      "RangeIndex: 306 entries, 0 to 305\n",
      "Data columns (total 14 columns):\n",
      " #   Column         Non-Null Count  Dtype \n",
      "---  ------         --------------  ----- \n",
      " 0   status         306 non-null    object\n",
      " 1   roundId        306 non-null    int64 \n",
      " 2   gameweek       306 non-null    int64 \n",
      " 3   teamsData      306 non-null    object\n",
      " 4   seasonId       306 non-null    int64 \n",
      " 5   dateutc        306 non-null    object\n",
      " 6   winner         306 non-null    int64 \n",
      " 7   venue          306 non-null    object\n",
      " 8   wyId           306 non-null    int64 \n",
      " 9   label          306 non-null    object\n",
      " 10  date           306 non-null    object\n",
      " 11  referees       306 non-null    object\n",
      " 12  duration       306 non-null    object\n",
      " 13  competitionId  306 non-null    int64 \n",
      "dtypes: int64(6), object(8)\n",
      "memory usage: 33.6+ KB\n"
     ]
    }
   ],
   "source": [
    "# Here we can observe that there are not null values. The columns dateutc and date are classified as object but this information\n",
    "# is related to date and time. We are going to fix it. \n",
    "matches.info()"
   ]
  },
  {
   "cell_type": "code",
   "execution_count": 46,
   "id": "35a000b9-efed-4510-8ae7-14b9a707774f",
   "metadata": {},
   "outputs": [],
   "source": [
    "# a copy of matches dataframe is created and it's denominated \"matches_2\". In this dataframe the change of datatype will carry out. \n",
    "matches_2 = matches.copy(deep= True)"
   ]
  },
  {
   "cell_type": "code",
   "execution_count": 47,
   "id": "238cd9fe-e35b-41bf-a2d7-cfa22169cebd",
   "metadata": {},
   "outputs": [
    {
     "name": "stdout",
     "output_type": "stream",
     "text": [
      "<class 'pandas.core.frame.DataFrame'>\n",
      "RangeIndex: 306 entries, 0 to 305\n",
      "Data columns (total 14 columns):\n",
      " #   Column         Non-Null Count  Dtype         \n",
      "---  ------         --------------  -----         \n",
      " 0   status         306 non-null    object        \n",
      " 1   roundId        306 non-null    int64         \n",
      " 2   gameweek       306 non-null    int64         \n",
      " 3   teamsData      306 non-null    object        \n",
      " 4   seasonId       306 non-null    int64         \n",
      " 5   dateutc        306 non-null    datetime64[ns]\n",
      " 6   winner         306 non-null    int64         \n",
      " 7   venue          306 non-null    object        \n",
      " 8   wyId           306 non-null    int64         \n",
      " 9   label          306 non-null    object        \n",
      " 10  date           306 non-null    object        \n",
      " 11  referees       306 non-null    object        \n",
      " 12  duration       306 non-null    object        \n",
      " 13  competitionId  306 non-null    int64         \n",
      "dtypes: datetime64[ns](1), int64(6), object(7)\n",
      "memory usage: 33.6+ KB\n"
     ]
    }
   ],
   "source": [
    "# aplying the modifications, the \"matches_2\" dataframe has the adequate datatype for all columns.\n",
    "matches_2['dateutc'] = pd.to_datetime(matches_2['dateutc'])\n",
    "matches_2.info()"
   ]
  },
  {
   "cell_type": "code",
   "execution_count": 48,
   "id": "7ea1d3ac-f01a-4fe9-a36c-ca32d7df13e7",
   "metadata": {},
   "outputs": [
    {
     "name": "stdout",
     "output_type": "stream",
     "text": [
      "<class 'pandas.core.frame.DataFrame'>\n",
      "RangeIndex: 3603 entries, 0 to 3602\n",
      "Data columns (total 14 columns):\n",
      " #   Column                 Non-Null Count  Dtype \n",
      "---  ------                 --------------  ----- \n",
      " 0   passportArea           3603 non-null   object\n",
      " 1   weight                 3603 non-null   int64 \n",
      " 2   firstName              3603 non-null   object\n",
      " 3   middleName             3603 non-null   object\n",
      " 4   lastName               3603 non-null   object\n",
      " 5   currentTeamId          3512 non-null   object\n",
      " 6   birthDate              3603 non-null   object\n",
      " 7   height                 3603 non-null   int64 \n",
      " 8   role                   3603 non-null   object\n",
      " 9   birthArea              3603 non-null   object\n",
      " 10  wyId                   3603 non-null   int64 \n",
      " 11  foot                   3603 non-null   object\n",
      " 12  shortName              3603 non-null   object\n",
      " 13  currentNationalTeamId  3603 non-null   object\n",
      "dtypes: int64(3), object(11)\n",
      "memory usage: 394.2+ KB\n"
     ]
    }
   ],
   "source": [
    "# Here we can observe that there are not null values but exists a column \"birthDate\" which requires a change of the datatype.\n",
    "players.info()"
   ]
  },
  {
   "cell_type": "code",
   "execution_count": 49,
   "id": "8fc63cd6-87b0-459a-99f4-259d59297023",
   "metadata": {},
   "outputs": [
    {
     "name": "stdout",
     "output_type": "stream",
     "text": [
      "<class 'pandas.core.frame.DataFrame'>\n",
      "RangeIndex: 3603 entries, 0 to 3602\n",
      "Data columns (total 14 columns):\n",
      " #   Column                 Non-Null Count  Dtype         \n",
      "---  ------                 --------------  -----         \n",
      " 0   passportArea           3603 non-null   object        \n",
      " 1   weight                 3603 non-null   int64         \n",
      " 2   firstName              3603 non-null   object        \n",
      " 3   middleName             3603 non-null   object        \n",
      " 4   lastName               3603 non-null   object        \n",
      " 5   currentTeamId          3512 non-null   object        \n",
      " 6   birthDate              3603 non-null   datetime64[ns]\n",
      " 7   height                 3603 non-null   int64         \n",
      " 8   role                   3603 non-null   object        \n",
      " 9   birthArea              3603 non-null   object        \n",
      " 10  wyId                   3603 non-null   int64         \n",
      " 11  foot                   3603 non-null   object        \n",
      " 12  shortName              3603 non-null   object        \n",
      " 13  currentNationalTeamId  3603 non-null   object        \n",
      "dtypes: datetime64[ns](1), int64(3), object(10)\n",
      "memory usage: 394.2+ KB\n"
     ]
    }
   ],
   "source": [
    "## Applying the same steps described lines above, the column \"birthday\" has the adequate datatype.\n",
    "players_2 = players.copy(deep= True)\n",
    "players_2['birthDate'] = pd.to_datetime(players_2['birthDate'])\n",
    "players_2.info()"
   ]
  },
  {
   "cell_type": "code",
   "execution_count": 50,
   "id": "6c5c77c7-04f9-42cf-8b3f-cdbf2b5b090a",
   "metadata": {},
   "outputs": [
    {
     "name": "stdout",
     "output_type": "stream",
     "text": [
      "<class 'pandas.core.frame.DataFrame'>\n",
      "RangeIndex: 142 entries, 0 to 141\n",
      "Data columns (total 6 columns):\n",
      " #   Column        Non-Null Count  Dtype \n",
      "---  ------        --------------  ----- \n",
      " 0   city          142 non-null    object\n",
      " 1   name          142 non-null    object\n",
      " 2   wyId          142 non-null    int64 \n",
      " 3   officialName  142 non-null    object\n",
      " 4   area          142 non-null    object\n",
      " 5   type          142 non-null    object\n",
      "dtypes: int64(1), object(5)\n",
      "memory usage: 6.8+ KB\n"
     ]
    }
   ],
   "source": [
    "# Here we can observe that neither there are null values nor columns with an inadequate datatype.  \n",
    "teams.info()"
   ]
  },
  {
   "cell_type": "markdown",
   "id": "8d284fa1-8e01-4289-ae16-8237d9650027",
   "metadata": {},
   "source": [
    "## Analysis of the information"
   ]
  },
  {
   "cell_type": "markdown",
   "id": "78af79ed-389b-4deb-a9ec-1296116754bb",
   "metadata": {},
   "source": [
    "The following analysis will be based on the 2017-2018 matches.<br>"
   ]
  },
  {
   "cell_type": "code",
   "execution_count": 51,
   "id": "91299b57-a2ae-4154-8787-7d40f5a5d902",
   "metadata": {},
   "outputs": [
    {
     "data": {
      "text/plain": [
       "array([2018, 2017], dtype=int32)"
      ]
     },
     "execution_count": 51,
     "metadata": {},
     "output_type": "execute_result"
    }
   ],
   "source": [
    "(matches_2['dateutc'].dt.year).unique()"
   ]
  },
  {
   "cell_type": "markdown",
   "id": "2351212a-4833-49c0-80dc-16f516ccdbeb",
   "metadata": {},
   "source": [
    "### Question 1\n",
    "Using the events, teams and players_2 dataframes, we are going to respond the following question:<br>\n",
    "which are the top-5 teams with the highest average number of passes per match?"
   ]
  },
  {
   "cell_type": "code",
   "execution_count": 52,
   "id": "6ad49bf1-a933-4be4-a9a9-415bbf3344f0",
   "metadata": {},
   "outputs": [
    {
     "data": {
      "text/html": [
       "<div>\n",
       "<style scoped>\n",
       "    .dataframe tbody tr th:only-of-type {\n",
       "        vertical-align: middle;\n",
       "    }\n",
       "\n",
       "    .dataframe tbody tr th {\n",
       "        vertical-align: top;\n",
       "    }\n",
       "\n",
       "    .dataframe thead th {\n",
       "        text-align: right;\n",
       "    }\n",
       "</style>\n",
       "<table border=\"1\" class=\"dataframe\">\n",
       "  <thead>\n",
       "    <tr style=\"text-align: right;\">\n",
       "      <th></th>\n",
       "      <th>eventId</th>\n",
       "      <th>subEventName</th>\n",
       "      <th>tags</th>\n",
       "      <th>playerId</th>\n",
       "      <th>positions</th>\n",
       "      <th>matchId</th>\n",
       "      <th>eventName</th>\n",
       "      <th>teamId</th>\n",
       "      <th>matchPeriod</th>\n",
       "      <th>eventSec</th>\n",
       "      <th>subEventId</th>\n",
       "      <th>id</th>\n",
       "      <th>TeamName</th>\n",
       "    </tr>\n",
       "  </thead>\n",
       "  <tbody>\n",
       "    <tr>\n",
       "      <th>0</th>\n",
       "      <td>8</td>\n",
       "      <td>Simple pass</td>\n",
       "      <td>[{'id': 1801}]</td>\n",
       "      <td>15231</td>\n",
       "      <td>[{'y': 50, 'x': 50}, {'y': 48, 'x': 50}]</td>\n",
       "      <td>2516739</td>\n",
       "      <td>Pass</td>\n",
       "      <td>2446</td>\n",
       "      <td>1H</td>\n",
       "      <td>2.409746</td>\n",
       "      <td>85</td>\n",
       "      <td>179896442</td>\n",
       "      <td>Bayer Leverkusen</td>\n",
       "    </tr>\n",
       "    <tr>\n",
       "      <th>1</th>\n",
       "      <td>8</td>\n",
       "      <td>Simple pass</td>\n",
       "      <td>[{'id': 1801}]</td>\n",
       "      <td>14786</td>\n",
       "      <td>[{'y': 48, 'x': 50}, {'y': 22, 'x': 22}]</td>\n",
       "      <td>2516739</td>\n",
       "      <td>Pass</td>\n",
       "      <td>2446</td>\n",
       "      <td>1H</td>\n",
       "      <td>2.506082</td>\n",
       "      <td>85</td>\n",
       "      <td>179896443</td>\n",
       "      <td>Bayer Leverkusen</td>\n",
       "    </tr>\n",
       "    <tr>\n",
       "      <th>2</th>\n",
       "      <td>8</td>\n",
       "      <td>Simple pass</td>\n",
       "      <td>[{'id': 1801}]</td>\n",
       "      <td>14803</td>\n",
       "      <td>[{'y': 22, 'x': 22}, {'y': 46, 'x': 6}]</td>\n",
       "      <td>2516739</td>\n",
       "      <td>Pass</td>\n",
       "      <td>2446</td>\n",
       "      <td>1H</td>\n",
       "      <td>6.946706</td>\n",
       "      <td>85</td>\n",
       "      <td>179896444</td>\n",
       "      <td>Bayer Leverkusen</td>\n",
       "    </tr>\n",
       "  </tbody>\n",
       "</table>\n",
       "</div>"
      ],
      "text/plain": [
       "   eventId subEventName            tags  playerId  \\\n",
       "0        8  Simple pass  [{'id': 1801}]     15231   \n",
       "1        8  Simple pass  [{'id': 1801}]     14786   \n",
       "2        8  Simple pass  [{'id': 1801}]     14803   \n",
       "\n",
       "                                  positions  matchId eventName  teamId  \\\n",
       "0  [{'y': 50, 'x': 50}, {'y': 48, 'x': 50}]  2516739      Pass    2446   \n",
       "1  [{'y': 48, 'x': 50}, {'y': 22, 'x': 22}]  2516739      Pass    2446   \n",
       "2   [{'y': 22, 'x': 22}, {'y': 46, 'x': 6}]  2516739      Pass    2446   \n",
       "\n",
       "  matchPeriod  eventSec subEventId         id          TeamName  \n",
       "0          1H  2.409746         85  179896442  Bayer Leverkusen  \n",
       "1          1H  2.506082         85  179896443  Bayer Leverkusen  \n",
       "2          1H  6.946706         85  179896444  Bayer Leverkusen  "
      ]
     },
     "execution_count": 52,
     "metadata": {},
     "output_type": "execute_result"
    }
   ],
   "source": [
    "events_df = pd.merge(events, teams[['name','wyId']], how= 'inner', left_on= 'teamId', right_on= 'wyId')\n",
    "events_df.rename(columns={'name':'TeamName'}, inplace= True)\n",
    "events_df.drop(labels= 'wyId', axis= 1, inplace= True)\n",
    "events_df.head(3)"
   ]
  },
  {
   "cell_type": "code",
   "execution_count": 53,
   "id": "f1c9491b-bbe5-4107-a025-2cfaf63b1c0c",
   "metadata": {},
   "outputs": [
    {
     "data": {
      "text/plain": [
       "Index(['passportArea', 'weight', 'firstName', 'middleName', 'lastName',\n",
       "       'currentTeamId', 'birthDate', 'height', 'role', 'birthArea', 'wyId',\n",
       "       'foot', 'shortName', 'currentNationalTeamId'],\n",
       "      dtype='object')"
      ]
     },
     "execution_count": 53,
     "metadata": {},
     "output_type": "execute_result"
    }
   ],
   "source": [
    "players_2.columns"
   ]
  },
  {
   "cell_type": "code",
   "execution_count": 54,
   "id": "961303e7-9b66-4a3c-98d0-faac83336633",
   "metadata": {},
   "outputs": [
    {
     "data": {
      "text/html": [
       "<div>\n",
       "<style scoped>\n",
       "    .dataframe tbody tr th:only-of-type {\n",
       "        vertical-align: middle;\n",
       "    }\n",
       "\n",
       "    .dataframe tbody tr th {\n",
       "        vertical-align: top;\n",
       "    }\n",
       "\n",
       "    .dataframe thead th {\n",
       "        text-align: right;\n",
       "    }\n",
       "</style>\n",
       "<table border=\"1\" class=\"dataframe\">\n",
       "  <thead>\n",
       "    <tr style=\"text-align: right;\">\n",
       "      <th></th>\n",
       "      <th>eventId</th>\n",
       "      <th>subEventName</th>\n",
       "      <th>tags</th>\n",
       "      <th>playerId</th>\n",
       "      <th>positions</th>\n",
       "      <th>matchId</th>\n",
       "      <th>eventName</th>\n",
       "      <th>teamId</th>\n",
       "      <th>matchPeriod</th>\n",
       "      <th>eventSec</th>\n",
       "      <th>subEventId</th>\n",
       "      <th>id</th>\n",
       "      <th>TeamName</th>\n",
       "      <th>shortName</th>\n",
       "      <th>firstName</th>\n",
       "    </tr>\n",
       "  </thead>\n",
       "  <tbody>\n",
       "    <tr>\n",
       "      <th>0</th>\n",
       "      <td>8</td>\n",
       "      <td>Simple pass</td>\n",
       "      <td>[{'id': 1801}]</td>\n",
       "      <td>15231</td>\n",
       "      <td>[{'y': 50, 'x': 50}, {'y': 48, 'x': 50}]</td>\n",
       "      <td>2516739</td>\n",
       "      <td>Pass</td>\n",
       "      <td>2446</td>\n",
       "      <td>1H</td>\n",
       "      <td>2.409746</td>\n",
       "      <td>85</td>\n",
       "      <td>179896442</td>\n",
       "      <td>Bayer Leverkusen</td>\n",
       "      <td>K. Volland</td>\n",
       "      <td>Kevin</td>\n",
       "    </tr>\n",
       "    <tr>\n",
       "      <th>1</th>\n",
       "      <td>8</td>\n",
       "      <td>Simple pass</td>\n",
       "      <td>[{'id': 1801}]</td>\n",
       "      <td>14786</td>\n",
       "      <td>[{'y': 48, 'x': 50}, {'y': 22, 'x': 22}]</td>\n",
       "      <td>2516739</td>\n",
       "      <td>Pass</td>\n",
       "      <td>2446</td>\n",
       "      <td>1H</td>\n",
       "      <td>2.506082</td>\n",
       "      <td>85</td>\n",
       "      <td>179896443</td>\n",
       "      <td>Bayer Leverkusen</td>\n",
       "      <td>K. Bellarabi</td>\n",
       "      <td>Karim</td>\n",
       "    </tr>\n",
       "  </tbody>\n",
       "</table>\n",
       "</div>"
      ],
      "text/plain": [
       "   eventId subEventName            tags  playerId  \\\n",
       "0        8  Simple pass  [{'id': 1801}]     15231   \n",
       "1        8  Simple pass  [{'id': 1801}]     14786   \n",
       "\n",
       "                                  positions  matchId eventName  teamId  \\\n",
       "0  [{'y': 50, 'x': 50}, {'y': 48, 'x': 50}]  2516739      Pass    2446   \n",
       "1  [{'y': 48, 'x': 50}, {'y': 22, 'x': 22}]  2516739      Pass    2446   \n",
       "\n",
       "  matchPeriod  eventSec subEventId         id          TeamName     shortName  \\\n",
       "0          1H  2.409746         85  179896442  Bayer Leverkusen    K. Volland   \n",
       "1          1H  2.506082         85  179896443  Bayer Leverkusen  K. Bellarabi   \n",
       "\n",
       "  firstName  \n",
       "0     Kevin  \n",
       "1     Karim  "
      ]
     },
     "execution_count": 54,
     "metadata": {},
     "output_type": "execute_result"
    }
   ],
   "source": [
    "events_df = pd.merge(events_df, players_2[['wyId', 'shortName', 'firstName']], how= 'inner', left_on= 'playerId', right_on= 'wyId')\n",
    "events_df.rename(columns= {'shortName':'PlayerName', 'firstName':'PlayerFname'})\n",
    "events_df.drop(labels= 'wyId', axis= 1, inplace= True)\n",
    "events_df.head(2)"
   ]
  },
  {
   "cell_type": "markdown",
   "id": "090bf986-5dd2-4061-8915-757ab68de556",
   "metadata": {},
   "source": [
    "### Result of the question 1"
   ]
  },
  {
   "cell_type": "code",
   "execution_count": 68,
   "id": "f4b03e61-d3a6-44a8-803f-93cc5b73b240",
   "metadata": {},
   "outputs": [
    {
     "data": {
      "text/html": [
       "<div>\n",
       "<style scoped>\n",
       "    .dataframe tbody tr th:only-of-type {\n",
       "        vertical-align: middle;\n",
       "    }\n",
       "\n",
       "    .dataframe tbody tr th {\n",
       "        vertical-align: top;\n",
       "    }\n",
       "\n",
       "    .dataframe thead th {\n",
       "        text-align: right;\n",
       "    }\n",
       "</style>\n",
       "<table border=\"1\" class=\"dataframe\">\n",
       "  <thead>\n",
       "    <tr style=\"text-align: right;\">\n",
       "      <th></th>\n",
       "      <th>TeamName</th>\n",
       "      <th>Number_of_passes</th>\n",
       "    </tr>\n",
       "  </thead>\n",
       "  <tbody>\n",
       "    <tr>\n",
       "      <th>2</th>\n",
       "      <td>Bayern M\\u00fcnchen</td>\n",
       "      <td>648.0</td>\n",
       "    </tr>\n",
       "    <tr>\n",
       "      <th>3</th>\n",
       "      <td>Borussia Dortmund</td>\n",
       "      <td>536.0</td>\n",
       "    </tr>\n",
       "    <tr>\n",
       "      <th>1</th>\n",
       "      <td>Bayer Leverkusen</td>\n",
       "      <td>479.0</td>\n",
       "    </tr>\n",
       "    <tr>\n",
       "      <th>4</th>\n",
       "      <td>Borussia M'gladbach</td>\n",
       "      <td>470.0</td>\n",
       "    </tr>\n",
       "    <tr>\n",
       "      <th>13</th>\n",
       "      <td>RB Leipzig</td>\n",
       "      <td>465.0</td>\n",
       "    </tr>\n",
       "  </tbody>\n",
       "</table>\n",
       "</div>"
      ],
      "text/plain": [
       "               TeamName  Number_of_passes\n",
       "2   Bayern M\\u00fcnchen             648.0\n",
       "3     Borussia Dortmund             536.0\n",
       "1      Bayer Leverkusen             479.0\n",
       "4   Borussia M'gladbach             470.0\n",
       "13           RB Leipzig             465.0"
      ]
     },
     "execution_count": 68,
     "metadata": {},
     "output_type": "execute_result"
    }
   ],
   "source": [
    "passes_by_match_team = (events_df[events_df['eventName'] == 'Pass']).groupby(['TeamName', 'matchId'])['eventName'].count()\n",
    "passes_by_match_team = passes_by_match_team.reset_index()\n",
    "passes_by_match_team.rename(columns={'eventName':'Number_of_passes'}, inplace= True)\n",
    "passes_by_match_team.groupby('TeamName')['Number_of_passes'].mean().reset_index().round(0).sort_values(\n",
    "    by = 'Number_of_passes', ascending = False).head(5)"
   ]
  },
  {
   "cell_type": "markdown",
   "id": "66087465-932d-4f5a-9b99-7946e0096ec1",
   "metadata": {},
   "source": [
    "**Result**<br>\n",
    "Bayern Munich has the best average number of passes followed by Borussia Dortmund in the 2017-2018 season."
   ]
  },
  {
   "cell_type": "code",
   "execution_count": null,
   "id": "2358115c-e585-4860-804b-753831bb80dd",
   "metadata": {},
   "outputs": [],
   "source": []
  },
  {
   "cell_type": "code",
   "execution_count": null,
   "id": "219ff571-c454-4bbf-87f0-60c0a693b72d",
   "metadata": {},
   "outputs": [],
   "source": []
  },
  {
   "cell_type": "code",
   "execution_count": null,
   "id": "d067e6a9-7663-47ff-86a7-57bac08a4a54",
   "metadata": {},
   "outputs": [],
   "source": []
  },
  {
   "cell_type": "code",
   "execution_count": null,
   "id": "6f8918fc-8672-4b8f-ac23-4e0b78d9eee3",
   "metadata": {},
   "outputs": [],
   "source": []
  },
  {
   "cell_type": "code",
   "execution_count": null,
   "id": "a46b9447-7b29-47a4-a0fc-6972e715fec1",
   "metadata": {},
   "outputs": [],
   "source": []
  },
  {
   "cell_type": "code",
   "execution_count": null,
   "id": "eff02fa6-b4c7-41d1-b44c-a7ec53803ca2",
   "metadata": {},
   "outputs": [],
   "source": []
  },
  {
   "cell_type": "code",
   "execution_count": null,
   "id": "53b77d1f-d321-4232-8139-74fbe7aef225",
   "metadata": {},
   "outputs": [],
   "source": []
  },
  {
   "cell_type": "code",
   "execution_count": null,
   "id": "19324244-ecc3-432d-91ed-6f78881b185a",
   "metadata": {},
   "outputs": [],
   "source": []
  }
 ],
 "metadata": {
  "kernelspec": {
   "display_name": "Python 3 (ipykernel)",
   "language": "python",
   "name": "python3"
  },
  "language_info": {
   "codemirror_mode": {
    "name": "ipython",
    "version": 3
   },
   "file_extension": ".py",
   "mimetype": "text/x-python",
   "name": "python",
   "nbconvert_exporter": "python",
   "pygments_lexer": "ipython3",
   "version": "3.13.5"
  }
 },
 "nbformat": 4,
 "nbformat_minor": 5
}
